{
 "cells": [
  {
   "metadata": {},
   "cell_type": "markdown",
   "source": [
    "<h1><center>Travel Insurance - Predictive Model</center></h1>\n",
    "<center>July 2024</center>\n",
    "<center>Celine Ng</center>"
   ],
   "id": "883eb5ef436c2c0"
  },
  {
   "metadata": {},
   "cell_type": "markdown",
   "source": [
    "# Table of Contents\n",
    "\n",
    "1. Project Introduction   \n",
    "    1. Libraries Installation\n",
    "    1. Dataset\n",
    "    1. Data Cleaning\n",
    "1. EDA\n",
    "    1. Distribution\n",
    "        1. Numeric Data\n",
    "        2. Categorical Data\n",
    "        3. Label\n",
    "            1. Summary\n",
    "    1. Correlation\n",
    "        1. Correlation with numerical features\n",
    "        1. Multicollinearity - Variance Inflation Factor\n",
    "    1. Statistic Inference\n",
    "        1. Target Population\n",
    "        2. Transform 'AnnualIncome'\n",
    "        3. Hypothesis Testing\n",
    "1. Preprocessing\n",
    "    1. Transformations\n",
    "    1. Data Splitting\n",
    "1. Models\n",
    "    1. Apply various models\n",
    "    1. Ensemble - Voting\n",
    "1. Improvements"
   ],
   "id": "1602213585267b2a"
  },
  {
   "metadata": {},
   "cell_type": "markdown",
   "source": "# 1. Project Introduction",
   "id": "1d7d154244452d16"
  },
  {
   "metadata": {},
   "cell_type": "markdown",
   "source": [
    "**Goal:** <br>\n",
    "The goal of the project is to build a model to predict if the customer will \n",
    "be <br> interested in buying travel insurance package based on the features \n",
    "<br>\n",
    "given. "
   ],
   "id": "e5539402bf586ae4"
  },
  {
   "metadata": {},
   "cell_type": "markdown",
   "source": "## 1. Libraries Installation",
   "id": "9dd02b977c569a1"
  },
  {
   "metadata": {
    "ExecuteTime": {
     "end_time": "2024-09-22T17:20:21.342541Z",
     "start_time": "2024-09-22T17:20:20.476360Z"
    }
   },
   "cell_type": "code",
   "source": [
    "%%capture\n",
    "%pip install -r requirements.txt"
   ],
   "id": "fd5fd4d60c3c7d28",
   "outputs": [],
   "execution_count": 1
  },
  {
   "metadata": {
    "ExecuteTime": {
     "end_time": "2024-09-22T17:20:22.283125Z",
     "start_time": "2024-09-22T17:20:21.343934Z"
    }
   },
   "cell_type": "code",
   "source": [
    "import pandas as pd\n",
    "import numpy as np\n",
    "import matplotlib.pyplot as plt\n",
    "import seaborn as sns\n",
    "from sklearn.compose import make_column_selector as selector\n",
    "from statsmodels.stats.outliers_influence import variance_inflation_factor\n",
    "from utils.statistics import *\n",
    "\n",
    "from sklearn.model_selection import train_test_split\n",
    "from sklearn.preprocessing import OneHotEncoder, StandardScaler\n",
    "from sklearn.compose import ColumnTransformer\n",
    "from sklearn.linear_model import LogisticRegression\n",
    "from sklearn.ensemble import RandomForestClassifier\n",
    "from sklearn.svm import SVC\n",
    "from sklearn.metrics import accuracy_score\n",
    "from sklearn.model_selection import GridSearchCV\n",
    "from sklearn.ensemble import VotingClassifier"
   ],
   "id": "c72fd142d186fa6f",
   "outputs": [],
   "execution_count": 2
  },
  {
   "metadata": {},
   "cell_type": "markdown",
   "source": "## 2. Dataset",
   "id": "20f207453b72ab7f"
  },
  {
   "metadata": {},
   "cell_type": "markdown",
   "source": [
    "The dataset was downloaded from Kaggle, <br>[Travel Insurance Prediction Data](https://www.kaggle.com/datasets/tejashvi14/travel-insurance-prediction-data)\n",
    "<br>\n",
    "on 23rd July 2024. The data comes from a Tour&Travel company. The company <br>\n",
    "is offering travel insurance packages and requires to know which customers \n",
    "<br> would be interested based on its database history. The insurance was <br>\n",
    "offered to some of the customers in 2019, the given data has been extracted \n",
    "<br>\n",
    "during that period. The data is provided for almost 2000 of its previous <br>\n",
    "customers. <br>"
   ],
   "id": "515decd0da867235"
  },
  {
   "metadata": {
    "ExecuteTime": {
     "end_time": "2024-09-22T17:20:22.293791Z",
     "start_time": "2024-09-22T17:20:22.284537Z"
    }
   },
   "cell_type": "code",
   "source": [
    "travelinsurance = pd.read_csv('datasets/TravelInsurancePrediction.csv')\n",
    "travelinsurance.head()"
   ],
   "id": "4b8bc43a09fc98e8",
   "outputs": [
    {
     "data": {
      "text/plain": [
       "   Unnamed: 0  Age               Employment Type GraduateOrNot  AnnualIncome  \\\n",
       "0           0   31             Government Sector           Yes        400000   \n",
       "1           1   31  Private Sector/Self Employed           Yes       1250000   \n",
       "2           2   34  Private Sector/Self Employed           Yes        500000   \n",
       "3           3   28  Private Sector/Self Employed           Yes        700000   \n",
       "4           4   28  Private Sector/Self Employed           Yes        700000   \n",
       "\n",
       "   FamilyMembers  ChronicDiseases FrequentFlyer EverTravelledAbroad  \\\n",
       "0              6                1            No                  No   \n",
       "1              7                0            No                  No   \n",
       "2              4                1            No                  No   \n",
       "3              3                1            No                  No   \n",
       "4              8                1           Yes                  No   \n",
       "\n",
       "   TravelInsurance  \n",
       "0                0  \n",
       "1                0  \n",
       "2                1  \n",
       "3                0  \n",
       "4                0  "
      ],
      "text/html": [
       "<div>\n",
       "<style scoped>\n",
       "    .dataframe tbody tr th:only-of-type {\n",
       "        vertical-align: middle;\n",
       "    }\n",
       "\n",
       "    .dataframe tbody tr th {\n",
       "        vertical-align: top;\n",
       "    }\n",
       "\n",
       "    .dataframe thead th {\n",
       "        text-align: right;\n",
       "    }\n",
       "</style>\n",
       "<table border=\"1\" class=\"dataframe\">\n",
       "  <thead>\n",
       "    <tr style=\"text-align: right;\">\n",
       "      <th></th>\n",
       "      <th>Unnamed: 0</th>\n",
       "      <th>Age</th>\n",
       "      <th>Employment Type</th>\n",
       "      <th>GraduateOrNot</th>\n",
       "      <th>AnnualIncome</th>\n",
       "      <th>FamilyMembers</th>\n",
       "      <th>ChronicDiseases</th>\n",
       "      <th>FrequentFlyer</th>\n",
       "      <th>EverTravelledAbroad</th>\n",
       "      <th>TravelInsurance</th>\n",
       "    </tr>\n",
       "  </thead>\n",
       "  <tbody>\n",
       "    <tr>\n",
       "      <th>0</th>\n",
       "      <td>0</td>\n",
       "      <td>31</td>\n",
       "      <td>Government Sector</td>\n",
       "      <td>Yes</td>\n",
       "      <td>400000</td>\n",
       "      <td>6</td>\n",
       "      <td>1</td>\n",
       "      <td>No</td>\n",
       "      <td>No</td>\n",
       "      <td>0</td>\n",
       "    </tr>\n",
       "    <tr>\n",
       "      <th>1</th>\n",
       "      <td>1</td>\n",
       "      <td>31</td>\n",
       "      <td>Private Sector/Self Employed</td>\n",
       "      <td>Yes</td>\n",
       "      <td>1250000</td>\n",
       "      <td>7</td>\n",
       "      <td>0</td>\n",
       "      <td>No</td>\n",
       "      <td>No</td>\n",
       "      <td>0</td>\n",
       "    </tr>\n",
       "    <tr>\n",
       "      <th>2</th>\n",
       "      <td>2</td>\n",
       "      <td>34</td>\n",
       "      <td>Private Sector/Self Employed</td>\n",
       "      <td>Yes</td>\n",
       "      <td>500000</td>\n",
       "      <td>4</td>\n",
       "      <td>1</td>\n",
       "      <td>No</td>\n",
       "      <td>No</td>\n",
       "      <td>1</td>\n",
       "    </tr>\n",
       "    <tr>\n",
       "      <th>3</th>\n",
       "      <td>3</td>\n",
       "      <td>28</td>\n",
       "      <td>Private Sector/Self Employed</td>\n",
       "      <td>Yes</td>\n",
       "      <td>700000</td>\n",
       "      <td>3</td>\n",
       "      <td>1</td>\n",
       "      <td>No</td>\n",
       "      <td>No</td>\n",
       "      <td>0</td>\n",
       "    </tr>\n",
       "    <tr>\n",
       "      <th>4</th>\n",
       "      <td>4</td>\n",
       "      <td>28</td>\n",
       "      <td>Private Sector/Self Employed</td>\n",
       "      <td>Yes</td>\n",
       "      <td>700000</td>\n",
       "      <td>8</td>\n",
       "      <td>1</td>\n",
       "      <td>Yes</td>\n",
       "      <td>No</td>\n",
       "      <td>0</td>\n",
       "    </tr>\n",
       "  </tbody>\n",
       "</table>\n",
       "</div>"
      ]
     },
     "execution_count": 3,
     "metadata": {},
     "output_type": "execute_result"
    }
   ],
   "execution_count": 3
  },
  {
   "metadata": {
    "ExecuteTime": {
     "end_time": "2024-09-22T17:20:22.297158Z",
     "start_time": "2024-09-22T17:20:22.294340Z"
    }
   },
   "cell_type": "code",
   "source": "travelinsurance = travelinsurance.drop(columns=['Unnamed: 0'])",
   "id": "ac9f92cae7722d7b",
   "outputs": [],
   "execution_count": 4
  },
  {
   "metadata": {},
   "cell_type": "markdown",
   "source": "1. How big is the dataset?",
   "id": "28a8505afa44a178"
  },
  {
   "metadata": {
    "ExecuteTime": {
     "end_time": "2024-09-22T17:20:22.300396Z",
     "start_time": "2024-09-22T17:20:22.297725Z"
    }
   },
   "cell_type": "code",
   "source": "travelinsurance.shape",
   "id": "1b29e71d748e770d",
   "outputs": [
    {
     "data": {
      "text/plain": [
       "(1987, 9)"
      ]
     },
     "execution_count": 5,
     "metadata": {},
     "output_type": "execute_result"
    }
   ],
   "execution_count": 5
  },
  {
   "metadata": {},
   "cell_type": "markdown",
   "source": "2. Data types",
   "id": "a3a1795daa93ca57"
  },
  {
   "metadata": {
    "ExecuteTime": {
     "end_time": "2024-09-22T17:20:22.304479Z",
     "start_time": "2024-09-22T17:20:22.301293Z"
    }
   },
   "cell_type": "code",
   "source": "travelinsurance.dtypes",
   "id": "12bcb3231ee539fd",
   "outputs": [
    {
     "data": {
      "text/plain": [
       "Age                     int64\n",
       "Employment Type        object\n",
       "GraduateOrNot          object\n",
       "AnnualIncome            int64\n",
       "FamilyMembers           int64\n",
       "ChronicDiseases         int64\n",
       "FrequentFlyer          object\n",
       "EverTravelledAbroad    object\n",
       "TravelInsurance         int64\n",
       "dtype: object"
      ]
     },
     "execution_count": 6,
     "metadata": {},
     "output_type": "execute_result"
    }
   ],
   "execution_count": 6
  },
  {
   "metadata": {},
   "cell_type": "markdown",
   "source": [
    "Features: <br>\n",
    "1. Age- Age Of The Customer <br>\n",
    "2. Employment Type- The Sector In Which Customer Is Employed <br>\n",
    "3. GraduateOrNot- Whether The Customer Is College Graduate Or Not <br>\n",
    "4. AnnualIncome- The Yearly Income Of The Customer In Indian Rupees[Rounded \n",
    "To\n",
    " Nearest 50 Thousand Rupees] <br>\n",
    "5. FamilyMembers- Number Of Members In Customer's Family <br>\n",
    "6. ChronicDisease- Whether The Customer Suffers From Any Major Disease Or <br>\n",
    "Conditions Like Diabetes/High BP or Asthama,etc.\n",
    "7. FrequentFlyer- Derived Data Based On Customer's History Of Booking Air <br>\n",
    "Tickets On Atleast 4 Different Instances In The Last 2 Years[2017-2019] <br>\n",
    "9. EverTravelledAbroad- Has The Customer Ever Travelled To A Foreign <br>\n",
    "Country[Not Necessarily Using The Company's Services]\n",
    "<br>\n",
    "\n",
    "Label: <br>\n",
    "TravelInsurance- Did The Customer Buy Travel Insurance Package During <br>\n",
    "Introductory Offering Held In The Year 2019."
   ],
   "id": "6437bed791547297"
  },
  {
   "metadata": {},
   "cell_type": "markdown",
   "source": "3. Correct data types to match throughout the dataset",
   "id": "6c59ce77626548c1"
  },
  {
   "metadata": {
    "ExecuteTime": {
     "end_time": "2024-09-22T17:20:22.310547Z",
     "start_time": "2024-09-22T17:20:22.305123Z"
    }
   },
   "cell_type": "code",
   "source": [
    "for col in ['ChronicDiseases', 'TravelInsurance']:\n",
    "    travelinsurance[col] = travelinsurance[col].replace(0, 'No')\n",
    "    travelinsurance[col] = travelinsurance[col].replace(1, 'Yes')\n",
    "    \n",
    "travelinsurance.head()"
   ],
   "id": "4b0f6781ca0171e3",
   "outputs": [
    {
     "data": {
      "text/plain": [
       "   Age               Employment Type GraduateOrNot  AnnualIncome  \\\n",
       "0   31             Government Sector           Yes        400000   \n",
       "1   31  Private Sector/Self Employed           Yes       1250000   \n",
       "2   34  Private Sector/Self Employed           Yes        500000   \n",
       "3   28  Private Sector/Self Employed           Yes        700000   \n",
       "4   28  Private Sector/Self Employed           Yes        700000   \n",
       "\n",
       "   FamilyMembers ChronicDiseases FrequentFlyer EverTravelledAbroad  \\\n",
       "0              6             Yes            No                  No   \n",
       "1              7              No            No                  No   \n",
       "2              4             Yes            No                  No   \n",
       "3              3             Yes            No                  No   \n",
       "4              8             Yes           Yes                  No   \n",
       "\n",
       "  TravelInsurance  \n",
       "0              No  \n",
       "1              No  \n",
       "2             Yes  \n",
       "3              No  \n",
       "4              No  "
      ],
      "text/html": [
       "<div>\n",
       "<style scoped>\n",
       "    .dataframe tbody tr th:only-of-type {\n",
       "        vertical-align: middle;\n",
       "    }\n",
       "\n",
       "    .dataframe tbody tr th {\n",
       "        vertical-align: top;\n",
       "    }\n",
       "\n",
       "    .dataframe thead th {\n",
       "        text-align: right;\n",
       "    }\n",
       "</style>\n",
       "<table border=\"1\" class=\"dataframe\">\n",
       "  <thead>\n",
       "    <tr style=\"text-align: right;\">\n",
       "      <th></th>\n",
       "      <th>Age</th>\n",
       "      <th>Employment Type</th>\n",
       "      <th>GraduateOrNot</th>\n",
       "      <th>AnnualIncome</th>\n",
       "      <th>FamilyMembers</th>\n",
       "      <th>ChronicDiseases</th>\n",
       "      <th>FrequentFlyer</th>\n",
       "      <th>EverTravelledAbroad</th>\n",
       "      <th>TravelInsurance</th>\n",
       "    </tr>\n",
       "  </thead>\n",
       "  <tbody>\n",
       "    <tr>\n",
       "      <th>0</th>\n",
       "      <td>31</td>\n",
       "      <td>Government Sector</td>\n",
       "      <td>Yes</td>\n",
       "      <td>400000</td>\n",
       "      <td>6</td>\n",
       "      <td>Yes</td>\n",
       "      <td>No</td>\n",
       "      <td>No</td>\n",
       "      <td>No</td>\n",
       "    </tr>\n",
       "    <tr>\n",
       "      <th>1</th>\n",
       "      <td>31</td>\n",
       "      <td>Private Sector/Self Employed</td>\n",
       "      <td>Yes</td>\n",
       "      <td>1250000</td>\n",
       "      <td>7</td>\n",
       "      <td>No</td>\n",
       "      <td>No</td>\n",
       "      <td>No</td>\n",
       "      <td>No</td>\n",
       "    </tr>\n",
       "    <tr>\n",
       "      <th>2</th>\n",
       "      <td>34</td>\n",
       "      <td>Private Sector/Self Employed</td>\n",
       "      <td>Yes</td>\n",
       "      <td>500000</td>\n",
       "      <td>4</td>\n",
       "      <td>Yes</td>\n",
       "      <td>No</td>\n",
       "      <td>No</td>\n",
       "      <td>Yes</td>\n",
       "    </tr>\n",
       "    <tr>\n",
       "      <th>3</th>\n",
       "      <td>28</td>\n",
       "      <td>Private Sector/Self Employed</td>\n",
       "      <td>Yes</td>\n",
       "      <td>700000</td>\n",
       "      <td>3</td>\n",
       "      <td>Yes</td>\n",
       "      <td>No</td>\n",
       "      <td>No</td>\n",
       "      <td>No</td>\n",
       "    </tr>\n",
       "    <tr>\n",
       "      <th>4</th>\n",
       "      <td>28</td>\n",
       "      <td>Private Sector/Self Employed</td>\n",
       "      <td>Yes</td>\n",
       "      <td>700000</td>\n",
       "      <td>8</td>\n",
       "      <td>Yes</td>\n",
       "      <td>Yes</td>\n",
       "      <td>No</td>\n",
       "      <td>No</td>\n",
       "    </tr>\n",
       "  </tbody>\n",
       "</table>\n",
       "</div>"
      ]
     },
     "execution_count": 7,
     "metadata": {},
     "output_type": "execute_result"
    }
   ],
   "execution_count": 7
  },
  {
   "metadata": {
    "ExecuteTime": {
     "end_time": "2024-09-22T17:20:22.313566Z",
     "start_time": "2024-09-22T17:20:22.311180Z"
    }
   },
   "cell_type": "code",
   "source": "travelinsurance.dtypes",
   "id": "81ce9795fff545f3",
   "outputs": [
    {
     "data": {
      "text/plain": [
       "Age                     int64\n",
       "Employment Type        object\n",
       "GraduateOrNot          object\n",
       "AnnualIncome            int64\n",
       "FamilyMembers           int64\n",
       "ChronicDiseases        object\n",
       "FrequentFlyer          object\n",
       "EverTravelledAbroad    object\n",
       "TravelInsurance        object\n",
       "dtype: object"
      ]
     },
     "execution_count": 8,
     "metadata": {},
     "output_type": "execute_result"
    }
   ],
   "execution_count": 8
  },
  {
   "metadata": {},
   "cell_type": "markdown",
   "source": "## 3. Data Cleaning",
   "id": "ae203e19174a0a50"
  },
  {
   "metadata": {},
   "cell_type": "markdown",
   "source": "1. Duplicated rows?",
   "id": "1a77ea4a2e06d15a"
  },
  {
   "metadata": {
    "ExecuteTime": {
     "end_time": "2024-09-22T17:20:22.317260Z",
     "start_time": "2024-09-22T17:20:22.314194Z"
    }
   },
   "cell_type": "code",
   "source": "travelinsurance.duplicated().any()",
   "id": "2e84f9438848a1f6",
   "outputs": [
    {
     "data": {
      "text/plain": [
       "np.True_"
      ]
     },
     "execution_count": 9,
     "metadata": {},
     "output_type": "execute_result"
    }
   ],
   "execution_count": 9
  },
  {
   "metadata": {
    "ExecuteTime": {
     "end_time": "2024-09-22T17:20:22.322767Z",
     "start_time": "2024-09-22T17:20:22.317869Z"
    }
   },
   "cell_type": "code",
   "source": "travelinsurance[travelinsurance.duplicated()].count()",
   "id": "909f6228c07d33c4",
   "outputs": [
    {
     "data": {
      "text/plain": [
       "Age                    738\n",
       "Employment Type        738\n",
       "GraduateOrNot          738\n",
       "AnnualIncome           738\n",
       "FamilyMembers          738\n",
       "ChronicDiseases        738\n",
       "FrequentFlyer          738\n",
       "EverTravelledAbroad    738\n",
       "TravelInsurance        738\n",
       "dtype: int64"
      ]
     },
     "execution_count": 10,
     "metadata": {},
     "output_type": "execute_result"
    }
   ],
   "execution_count": 10
  },
  {
   "metadata": {},
   "cell_type": "markdown",
   "source": [
    "There are duplicates, but there is not enough context to decide whether they\n",
    " <br>\n",
    "are the same customer or simply a coincidence that their personal \n",
    "information <br>\n",
    " are similar. I will leave this as it is for the purpose of the project."
   ],
   "id": "3ae59aee69e23bd5"
  },
  {
   "metadata": {},
   "cell_type": "markdown",
   "source": "2. Missing values?",
   "id": "95e0e282a449d1a2"
  },
  {
   "metadata": {
    "ExecuteTime": {
     "end_time": "2024-09-22T17:20:22.328270Z",
     "start_time": "2024-09-22T17:20:22.324859Z"
    }
   },
   "cell_type": "code",
   "source": "travelinsurance.isna().any().any()",
   "id": "246c2e80d7360e2",
   "outputs": [
    {
     "data": {
      "text/plain": [
       "np.False_"
      ]
     },
     "execution_count": 11,
     "metadata": {},
     "output_type": "execute_result"
    }
   ],
   "execution_count": 11
  },
  {
   "metadata": {},
   "cell_type": "markdown",
   "source": "3. Separate data and target ",
   "id": "9de3f161d4cb7b7e"
  },
  {
   "metadata": {
    "ExecuteTime": {
     "end_time": "2024-09-22T17:20:22.333455Z",
     "start_time": "2024-09-22T17:20:22.330975Z"
    }
   },
   "cell_type": "code",
   "source": [
    "target_name = 'TravelInsurance'\n",
    "data, target = (travelinsurance.drop(columns=[target_name]), \n",
    "                travelinsurance[target_name])"
   ],
   "id": "a1a467e56695c31e",
   "outputs": [],
   "execution_count": 12
  },
  {
   "metadata": {},
   "cell_type": "markdown",
   "source": "4. Identify numerical and categorical columns",
   "id": "65055a2a364d1776"
  },
  {
   "metadata": {
    "ExecuteTime": {
     "end_time": "2024-09-22T17:20:22.336036Z",
     "start_time": "2024-09-22T17:20:22.334039Z"
    }
   },
   "cell_type": "code",
   "source": [
    "categorical_columns_selector = selector(dtype_include=object)\n",
    "categorical_columns = categorical_columns_selector(data)"
   ],
   "id": "518061ba789461f3",
   "outputs": [],
   "execution_count": 13
  },
  {
   "metadata": {
    "ExecuteTime": {
     "end_time": "2024-09-22T17:20:22.338441Z",
     "start_time": "2024-09-22T17:20:22.336637Z"
    }
   },
   "cell_type": "code",
   "source": [
    "numerical_columns_selector = selector(dtype_include='int64')\n",
    "numerical_columns = numerical_columns_selector(data)"
   ],
   "id": "4836bdfbc7eb511f",
   "outputs": [],
   "execution_count": 14
  },
  {
   "metadata": {},
   "cell_type": "markdown",
   "source": "# 2. EDA",
   "id": "260e79ae8cfc4295"
  },
  {
   "metadata": {},
   "cell_type": "markdown",
   "source": [
    "## 1. Distribution\n",
    "\n",
    "Objective:\n",
    "1. Understand visually the distribution and outliers of our features and the\n",
    " <br>\n",
    "label. \n",
    "2. Include mean(red) and median(blue) in the graphs to showcase the \n",
    "influence <br> of outliers, skewness in each case."
   ],
   "id": "ef1fdd3b7a8a90bf"
  },
  {
   "metadata": {},
   "cell_type": "markdown",
   "source": "### 1. Numerical Data",
   "id": "2a5ef2ba5f9bb8dc"
  },
  {
   "metadata": {
    "ExecuteTime": {
     "end_time": "2024-09-22T17:20:22.344746Z",
     "start_time": "2024-09-22T17:20:22.339074Z"
    }
   },
   "cell_type": "code",
   "source": "travelinsurance[numerical_columns].describe()",
   "id": "16607cbf82c8128c",
   "outputs": [
    {
     "data": {
      "text/plain": [
       "               Age  AnnualIncome  FamilyMembers\n",
       "count  1987.000000  1.987000e+03    1987.000000\n",
       "mean     29.650226  9.327630e+05       4.752894\n",
       "std       2.913308  3.768557e+05       1.609650\n",
       "min      25.000000  3.000000e+05       2.000000\n",
       "25%      28.000000  6.000000e+05       4.000000\n",
       "50%      29.000000  9.000000e+05       5.000000\n",
       "75%      32.000000  1.250000e+06       6.000000\n",
       "max      35.000000  1.800000e+06       9.000000"
      ],
      "text/html": [
       "<div>\n",
       "<style scoped>\n",
       "    .dataframe tbody tr th:only-of-type {\n",
       "        vertical-align: middle;\n",
       "    }\n",
       "\n",
       "    .dataframe tbody tr th {\n",
       "        vertical-align: top;\n",
       "    }\n",
       "\n",
       "    .dataframe thead th {\n",
       "        text-align: right;\n",
       "    }\n",
       "</style>\n",
       "<table border=\"1\" class=\"dataframe\">\n",
       "  <thead>\n",
       "    <tr style=\"text-align: right;\">\n",
       "      <th></th>\n",
       "      <th>Age</th>\n",
       "      <th>AnnualIncome</th>\n",
       "      <th>FamilyMembers</th>\n",
       "    </tr>\n",
       "  </thead>\n",
       "  <tbody>\n",
       "    <tr>\n",
       "      <th>count</th>\n",
       "      <td>1987.000000</td>\n",
       "      <td>1.987000e+03</td>\n",
       "      <td>1987.000000</td>\n",
       "    </tr>\n",
       "    <tr>\n",
       "      <th>mean</th>\n",
       "      <td>29.650226</td>\n",
       "      <td>9.327630e+05</td>\n",
       "      <td>4.752894</td>\n",
       "    </tr>\n",
       "    <tr>\n",
       "      <th>std</th>\n",
       "      <td>2.913308</td>\n",
       "      <td>3.768557e+05</td>\n",
       "      <td>1.609650</td>\n",
       "    </tr>\n",
       "    <tr>\n",
       "      <th>min</th>\n",
       "      <td>25.000000</td>\n",
       "      <td>3.000000e+05</td>\n",
       "      <td>2.000000</td>\n",
       "    </tr>\n",
       "    <tr>\n",
       "      <th>25%</th>\n",
       "      <td>28.000000</td>\n",
       "      <td>6.000000e+05</td>\n",
       "      <td>4.000000</td>\n",
       "    </tr>\n",
       "    <tr>\n",
       "      <th>50%</th>\n",
       "      <td>29.000000</td>\n",
       "      <td>9.000000e+05</td>\n",
       "      <td>5.000000</td>\n",
       "    </tr>\n",
       "    <tr>\n",
       "      <th>75%</th>\n",
       "      <td>32.000000</td>\n",
       "      <td>1.250000e+06</td>\n",
       "      <td>6.000000</td>\n",
       "    </tr>\n",
       "    <tr>\n",
       "      <th>max</th>\n",
       "      <td>35.000000</td>\n",
       "      <td>1.800000e+06</td>\n",
       "      <td>9.000000</td>\n",
       "    </tr>\n",
       "  </tbody>\n",
       "</table>\n",
       "</div>"
      ]
     },
     "execution_count": 15,
     "metadata": {},
     "output_type": "execute_result"
    }
   ],
   "execution_count": 15
  },
  {
   "metadata": {
    "ExecuteTime": {
     "end_time": "2024-09-22T17:20:22.709103Z",
     "start_time": "2024-09-22T17:20:22.345679Z"
    }
   },
   "cell_type": "code",
   "source": [
    "fig, axes = plt.subplots(nrows=1, ncols=3, figsize=(15, 4))\n",
    "fig.subplots_adjust(hspace=0.3, wspace=0.4)\n",
    "\n",
    "axes_flatten = axes.flatten()\n",
    "\n",
    "for i, col in enumerate(numerical_columns):\n",
    "    sns.histplot(x=col, data=travelinsurance, kde=True, ax=axes_flatten[i])\n",
    "    mean_value = travelinsurance[col].mean()\n",
    "    axes_flatten[i].axvline(mean_value, color='r', linestyle='--', linewidth=2)\n",
    "    median_value = travelinsurance[col].median()\n",
    "    axes_flatten[i].axvline(median_value, color='b', linestyle='--', \n",
    "                                linewidth=2)\n",
    "    sns.despine(top=True, right=True, left=False, bottom=False)\n",
    "    \n",
    "fig.suptitle('Travel Insurance Numerical Data Distribution', fontsize=15)\n",
    "\n",
    "plt.show()"
   ],
   "id": "2d108ebbc14d2f06",
   "outputs": [
    {
     "data": {
      "text/plain": [
       "<Figure size 1500x400 with 3 Axes>"
      ],
      "image/png": "[encoded data removed]"
     },
     "metadata": {},
     "output_type": "display_data"
    }
   ],
   "execution_count": 16
  },
  {
   "metadata": {},
   "cell_type": "markdown",
   "source": [
    "There is not a clear distribution shape for Age.<br> \n",
    "Annual Income does seem to have a bimodal distribution, the lower income and\n",
    " <br>higher income. <br>\n",
    "The number of Family Members is only more normally distributed one, with an \n",
    "<br>\n",
    "average of 5 members."
   ],
   "id": "450dc640862bac59"
  },
  {
   "metadata": {},
   "cell_type": "markdown",
   "source": "Visualize outliers with boxplot",
   "id": "74103e983366eef0"
  },
  {
   "metadata": {
    "ExecuteTime": {
     "end_time": "2024-09-22T17:20:22.856054Z",
     "start_time": "2024-09-22T17:20:22.711650Z"
    }
   },
   "cell_type": "code",
   "source": [
    "fig, axes = plt.subplots(nrows=1, ncols=3, figsize=(15, 4))\n",
    "fig.subplots_adjust(hspace=0.3, wspace=0.4)\n",
    "\n",
    "axes_flatten = axes.flatten()\n",
    "\n",
    "for i, col in enumerate(numerical_columns):\n",
    "        sns.boxplot(x=col, data=travelinsurance, ax=axes_flatten[i])\n",
    "        sns.despine(top=True, right=True, left=False, bottom=False)\n",
    "    \n",
    "fig.suptitle('Travel Insurance Numerical Data Boxplot', fontsize=15)\n",
    "\n",
    "plt.show()"
   ],
   "id": "7e1ccabe9a6e1d76",
   "outputs": [
    {
     "data": {
      "text/plain": [
       "<Figure size 1500x400 with 3 Axes>"
      ],
      "image/png": "[encoded data removed]"
     },
     "metadata": {},
     "output_type": "display_data"
    }
   ],
   "execution_count": 17
  },
  {
   "metadata": {},
   "cell_type": "markdown",
   "source": [
    "Mean and median do not differ a lot, and this is reflected in boxplot <br>\n",
    "representations, as there is no outliers."
   ],
   "id": "324b09182d0ece65"
  },
  {
   "metadata": {},
   "cell_type": "markdown",
   "source": "### 2. Categorical Data",
   "id": "d2542d8d9c6490f1"
  },
  {
   "metadata": {
    "ExecuteTime": {
     "end_time": "2024-09-22T17:20:23.137998Z",
     "start_time": "2024-09-22T17:20:22.856850Z"
    }
   },
   "cell_type": "code",
   "source": [
    "fig, axes = plt.subplots(nrows=3, ncols=2, figsize=(15, 12), sharey=True)\n",
    "fig.subplots_adjust(hspace=0.5, wspace=0.4)\n",
    "axes_flatten = axes.flatten()\n",
    "\n",
    "for i, col in enumerate(categorical_columns):\n",
    "    sns.countplot(data=travelinsurance, x=col, ax=axes_flatten[i])\n",
    "    axes_flatten[i].set_title(col) \n",
    "    for p in axes_flatten[i].patches:\n",
    "        (axes_flatten[i]\n",
    "         .annotate(f'{int(p.get_height())}',(p.get_x() + p.get_width() / 2., p\n",
    "                                             .get_height()), ha='center', \n",
    "                   va='center', xytext=(0, 10), textcoords='offset points'))\n",
    "    sns.despine(top=True, right=True, left=True, bottom=True)\n",
    "    axes_flatten[i].tick_params(axis='x', which='both', length=0, labelbottom=True)\n",
    "    axes_flatten[i].tick_params(axis='y', which='both', length=0, labelleft=False)\n",
    "    axes_flatten[i].set(ylabel=None)\n",
    "        \n",
    "axes_flatten[5].clear()\n",
    "axes_flatten[5].axis('off')\n",
    "\n",
    "plt.suptitle('Travel Insurance Categorical Data Distribution', fontsize=15)\n",
    "plt.show()"
   ],
   "id": "72cdf6f92e453e43",
   "outputs": [
    {
     "data": {
      "text/plain": [
       "<Figure size 1500x1200 with 6 Axes>"
      ],
      "image/png": "[encoded data removed]"
     },
     "metadata": {},
     "output_type": "display_data"
    }
   ],
   "execution_count": 18
  },
  {
   "metadata": {},
   "cell_type": "markdown",
   "source": "### 3. Label",
   "id": "e077856807a493e1"
  },
  {
   "metadata": {
    "ExecuteTime": {
     "end_time": "2024-09-22T17:20:23.179617Z",
     "start_time": "2024-09-22T17:20:23.138660Z"
    }
   },
   "cell_type": "code",
   "source": [
    "fig = plt.figure(figsize=(5, 3))\n",
    "ax = sns.countplot(data=travelinsurance, x='TravelInsurance')\n",
    "for p in ax.patches:\n",
    "    (ax.annotate(f'{int(p.get_height())}',(p.get_x() + p.get_width() / 2., p\n",
    "                                             .get_height()), ha='center', \n",
    "                   va='center', xytext=(0, 10), textcoords='offset points'))\n",
    "    sns.despine(top=True, right=True, left=True, bottom=True)\n",
    "    ax.tick_params(axis='x', which='both', length=0, labelbottom=True)\n",
    "    ax.tick_params(axis='y', which='both', length=0, labelleft=False)\n",
    "    ax.set(ylabel=None)\n",
    "plt.title('Travel Insurance Label Distribution', fontsize=15, pad=20)\n",
    "plt.show()"
   ],
   "id": "62583c9c038f63ec",
   "outputs": [
    {
     "data": {
      "text/plain": [
       "<Figure size 500x300 with 1 Axes>"
      ],
      "image/png": "[encoded data removed]"
     },
     "metadata": {},
     "output_type": "display_data"
    }
   ],
   "execution_count": 19
  },
  {
   "metadata": {},
   "cell_type": "markdown",
   "source": "#### Summary",
   "id": "f3ecb8061a7d8248"
  },
  {
   "metadata": {},
   "cell_type": "markdown",
   "source": [
    "1. Categorical datas and label have a tendency in responses\n",
    "2. Numerical datas are not heavily affected by outliers or skewness.\n",
    "3. Family members is most normally distributed with an average at 5, mode at 4.\n",
    "4. Annual Income seem to be divided into 2 subgroups."
   ],
   "id": "379f3493934712b8"
  },
  {
   "metadata": {},
   "cell_type": "markdown",
   "source": [
    "## 2. Correlation\n",
    "\n",
    "Objective:\n",
    "1. Linear correlation within features\n",
    "2. Linear correlation between features and label\n",
    "3. Multicollinearity detection with VIF"
   ],
   "id": "4fc8016f21898d4"
  },
  {
   "metadata": {},
   "cell_type": "markdown",
   "source": "### 1. Correlation with numerical features",
   "id": "2d85cbdb7f054665"
  },
  {
   "metadata": {
    "ExecuteTime": {
     "end_time": "2024-09-22T17:20:23.351480Z",
     "start_time": "2024-09-22T17:20:23.180249Z"
    }
   },
   "cell_type": "code",
   "source": [
    "fig, axes = plt.subplots(nrows=2, ncols=2, figsize=(10, 5))\n",
    "fig.subplots_adjust(hspace=0.4, wspace=0.4)\n",
    "\n",
    "axes_flatten = axes.flatten()\n",
    "\n",
    "\n",
    "sns.scatterplot(data=travelinsurance, x='AnnualIncome', y='Age', \n",
    "                ax=axes_flatten[0])\n",
    "sns.scatterplot(data=travelinsurance, x='FamilyMembers', y='Age', \n",
    "                ax=axes_flatten[1])\n",
    "sns.scatterplot(data=travelinsurance, x='FamilyMembers', y='AnnualIncome', \n",
    "                ax=axes_flatten[2])\n",
    "\n",
    "axes_flatten[3].clear()\n",
    "axes_flatten[3].axis('off')\n",
    "\n",
    "fig.suptitle('Relationship between Numerical Features', fontsize=15)\n",
    "\n",
    "plt.show()"
   ],
   "id": "e00cb724f22886bf",
   "outputs": [
    {
     "data": {
      "text/plain": [
       "<Figure size 1000x500 with 4 Axes>"
      ],
      "image/png": "[encoded data removed]"
     },
     "metadata": {},
     "output_type": "display_data"
    }
   ],
   "execution_count": 20
  },
  {
   "metadata": {
    "ExecuteTime": {
     "end_time": "2024-09-22T17:20:23.505303Z",
     "start_time": "2024-09-22T17:20:23.352353Z"
    }
   },
   "cell_type": "code",
   "source": [
    "fig, axes = plt.subplots(nrows=2, ncols=2, figsize=(10, 5))\n",
    "fig.subplots_adjust(hspace=0.3, wspace=0.4)\n",
    "\n",
    "axes_flatten = axes.flatten()\n",
    "\n",
    "for i, col in enumerate(numerical_columns):\n",
    "    sns.scatterplot(x=col, y='TravelInsurance', data=travelinsurance, \n",
    "                    ax=axes_flatten[i])\n",
    "    sns.despine(top=True, right=True, left=False, bottom=False)\n",
    "\n",
    "axes_flatten[3].clear()\n",
    "axes_flatten[3].axis('off')\n",
    "fig.suptitle('Relationship between Numerical Features and Label', fontsize=15)\n",
    "\n",
    "plt.show()"
   ],
   "id": "607fdd235120341a",
   "outputs": [
    {
     "data": {
      "text/plain": [
       "<Figure size 1000x500 with 4 Axes>"
      ],
      "image/png": "[encoded data removed]"
     },
     "metadata": {},
     "output_type": "display_data"
    }
   ],
   "execution_count": 21
  },
  {
   "metadata": {},
   "cell_type": "markdown",
   "source": [
    "No further linear correlation calculations needed as correlation among \n",
    "<br >numeric\n",
    "variables is not visually identifiable, meaning it is very weak."
   ],
   "id": "dc81e3a39a54173a"
  },
  {
   "metadata": {},
   "cell_type": "markdown",
   "source": "### 2. Multicollinearity - Variance Inflation Factor",
   "id": "6f0619944f909523"
  },
  {
   "metadata": {
    "ExecuteTime": {
     "end_time": "2024-09-22T17:20:23.516277Z",
     "start_time": "2024-09-22T17:20:23.505965Z"
    }
   },
   "cell_type": "code",
   "source": [
    "X = travelinsurance[numerical_columns]\n",
    "vif_data = pd.DataFrame()\n",
    "vif_data['Feature'] = X.columns\n",
    "vif_data['VIF'] = [variance_inflation_factor(X.values, i) for i in range(X.shape[1])]\n",
    "\n",
    "print(vif_data)"
   ],
   "id": "4323b0e2b55964b8",
   "outputs": [
    {
     "name": "stdout",
     "output_type": "stream",
     "text": [
      "         Feature        VIF\n",
      "0            Age  14.132330\n",
      "1   AnnualIncome   6.690676\n",
      "2  FamilyMembers   9.130465\n"
     ]
    }
   ],
   "execution_count": 22
  },
  {
   "metadata": {},
   "cell_type": "markdown",
   "source": [
    "All columns have high multicollearity problems. <br>\n",
    "Remove column 'Age' to see if the VIF values for other features reduce."
   ],
   "id": "c2c0e26214bf4dd9"
  },
  {
   "metadata": {
    "ExecuteTime": {
     "end_time": "2024-09-22T17:20:23.522333Z",
     "start_time": "2024-09-22T17:20:23.516983Z"
    }
   },
   "cell_type": "code",
   "source": [
    "travelinsurance = travelinsurance.drop(columns=['Age'])\n",
    "data = data.drop(columns=['Age'])\n",
    "numerical_columns = ['AnnualIncome', 'FamilyMembers']\n",
    "\n",
    "X = data[numerical_columns]\n",
    "vif_data = pd.DataFrame()\n",
    "vif_data['Feature'] = X.columns\n",
    "vif_data['VIF'] = [variance_inflation_factor(X.values, i) for i in range(X.shape[1])]\n",
    "\n",
    "print(vif_data)"
   ],
   "id": "1416c26d504ae303",
   "outputs": [
    {
     "name": "stdout",
     "output_type": "stream",
     "text": [
      "         Feature       VIF\n",
      "0   AnnualIncome  4.311713\n",
      "1  FamilyMembers  4.311713\n"
     ]
    }
   ],
   "execution_count": 23
  },
  {
   "metadata": {},
   "cell_type": "markdown",
   "source": [
    "Both features show moderate multicollinearity, these are usually acceptable \n",
    "<br>\n",
    "values."
   ],
   "id": "9b1f8b7623c0e81a"
  },
  {
   "metadata": {},
   "cell_type": "markdown",
   "source": [
    "## 3. Statistic Inference\n",
    "\n",
    "Objective: <br>\n",
    "1. Define target population\n",
    "2. Convert AnnualIncome into categorical data\n",
    "3. Understand our target population by raising and testing multiple <br>\n",
    "hypotheses and drop features irrelevant to target answer prediction."
   ],
   "id": "1ac1419bfdc194c0"
  },
  {
   "metadata": {},
   "cell_type": "markdown",
   "source": "### 1. Target Population",
   "id": "3a95f42a868d5cb0"
  },
  {
   "metadata": {},
   "cell_type": "markdown",
   "source": [
    "All Tour & Travel company's customers who might show interest in buying the \n",
    "<br>\n",
    "Travel Insurance"
   ],
   "id": "764a8021cdced070"
  },
  {
   "metadata": {},
   "cell_type": "markdown",
   "source": "### 2. Transform 'AnnualIncome'",
   "id": "25b55388f5eb8208"
  },
  {
   "metadata": {},
   "cell_type": "markdown",
   "source": [
    "This feature as shown previously in section 2, has a bimodal distribution. <br>\n",
    "In order to state hypotheses focused on the difference between customers who\n",
    " <br> purchased and did not purchase the Travel Insurance in section 4, the \n",
    " <br>\n",
    " features are ideally in the categorical data type."
   ],
   "id": "f6c302b2bd8d69b1"
  },
  {
   "metadata": {
    "ExecuteTime": {
     "end_time": "2024-09-22T17:20:23.525936Z",
     "start_time": "2024-09-22T17:20:23.523193Z"
    }
   },
   "cell_type": "code",
   "source": [
    "mean = data['AnnualIncome'].mean()\n",
    "data['AnnualIncome'] = (data['AnnualIncome']\n",
    "                        .apply(lambda x: '<mean' if x < mean else '>mean'))"
   ],
   "id": "e7a09a7f081e2e71",
   "outputs": [],
   "execution_count": 24
  },
  {
   "metadata": {},
   "cell_type": "markdown",
   "source": "### 3. Hypothesis Testing",
   "id": "d54535193608fe2b"
  },
  {
   "metadata": {},
   "cell_type": "markdown",
   "source": [
    "General Hypothesis: <br>\n",
    "Is there evidence that customers who purchase the travel insurance has <br>\n",
    "different characteristics than those who do not? <br>\n",
    "<br>\n",
    "Null hypothesis (H0): <br>\n",
    "The characteristics of those who buy and who do not buy are the same. <br>\n",
    "<br>\n",
    "Alternative hypothesis (H1): <br>\n",
    "There is a significant difference between customers who buy and who do not.\n",
    "\n",
    "Note: the significance level considered is 0.05"
   ],
   "id": "233d1f5458820c79"
  },
  {
   "metadata": {},
   "cell_type": "markdown",
   "source": "**Chi-Square Tests** - 2 sided hypothesis test",
   "id": "cc44711a164dd2bd"
  },
  {
   "metadata": {
    "ExecuteTime": {
     "end_time": "2024-09-22T17:20:23.544350Z",
     "start_time": "2024-09-22T17:20:23.526877Z"
    }
   },
   "cell_type": "code",
   "source": [
    "p_values = []\n",
    "\n",
    "for feature in data.columns:\n",
    "    chi2_stat, p_val = chi2_test(travelinsurance, feature, 'TravelInsurance')\n",
    "    p_values.append((feature, p_val))\n",
    "    print(f'{feature} - chi2_statistic: {chi2_stat}, p-value: {p_val}')\n",
    "    alpha = 0.05\n",
    "    if p_val < alpha:\n",
    "        print(f\"Reject null hypothesis\")\n",
    "    else:\n",
    "        print(f\"Fail to reject null hypothesis\")"
   ],
   "id": "431f4e1cf188e83",
   "outputs": [
    {
     "name": "stdout",
     "output_type": "stream",
     "text": [
      "Employment Type - chi2_statistic: 42.75380328896317, p-value: 6.208106601512192e-11\n",
      "Reject null hypothesis\n",
      "GraduateOrNot - chi2_statistic: 0.605510042905726, p-value: 0.4364833842842336\n",
      "Fail to reject null hypothesis\n",
      "AnnualIncome - chi2_statistic: 638.6459115549986, p-value: 6.055353915445171e-116\n",
      "Reject null hypothesis\n",
      "FamilyMembers - chi2_statistic: 29.11484324026023, p-value: 0.00013787342774603269\n",
      "Reject null hypothesis\n",
      "ChronicDiseases - chi2_statistic: 0.5754114650274649, p-value: 0.4481165216392011\n",
      "Fail to reject null hypothesis\n",
      "FrequentFlyer - chi2_statistic: 105.85723074203977, p-value: 7.924360415064537e-25\n",
      "Reject null hypothesis\n",
      "EverTravelledAbroad - chi2_statistic: 370.5599281861554, p-value: 1.4134505859999571e-82\n",
      "Reject null hypothesis\n"
     ]
    }
   ],
   "execution_count": 25
  },
  {
   "metadata": {},
   "cell_type": "markdown",
   "source": "Drop columns that do not show relevance to the target answer",
   "id": "45af1a462f279a9"
  },
  {
   "metadata": {
    "ExecuteTime": {
     "end_time": "2024-09-22T17:20:23.547514Z",
     "start_time": "2024-09-22T17:20:23.545158Z"
    }
   },
   "cell_type": "code",
   "source": [
    "travelinsurance = travelinsurance.drop(columns=['GraduateOrNot', \n",
    "                                                'ChronicDiseases'])\n",
    "data = data.drop(columns=['GraduateOrNot', 'ChronicDiseases'])"
   ],
   "id": "b6e86d3e72189d",
   "outputs": [],
   "execution_count": 26
  },
  {
   "metadata": {},
   "cell_type": "markdown",
   "source": [
    "# 3. Preprocessing\n",
    "\n",
    "Objective: <br>\n",
    "1. Scale numerical features to make sure all features have the same impact\n",
    "2. Encode categorical data to numeric values, facilitating calculations.\n",
    "3. Splitting data"
   ],
   "id": "df3ce6e65d85fa01"
  },
  {
   "metadata": {},
   "cell_type": "markdown",
   "source": "## 1. Transformations",
   "id": "a9b2fd9427183297"
  },
  {
   "metadata": {},
   "cell_type": "markdown",
   "source": "**Target**",
   "id": "b3e7553b01715a9d"
  },
  {
   "metadata": {
    "ExecuteTime": {
     "end_time": "2024-09-22T17:20:23.550750Z",
     "start_time": "2024-09-22T17:20:23.548034Z"
    }
   },
   "cell_type": "code",
   "source": [
    "Y = target.map({'Yes': 1, 'No': 0})\n",
    "Y.head()"
   ],
   "id": "27a44842f4b862f5",
   "outputs": [
    {
     "data": {
      "text/plain": [
       "0    0\n",
       "1    0\n",
       "2    1\n",
       "3    0\n",
       "4    0\n",
       "Name: TravelInsurance, dtype: int64"
      ]
     },
     "execution_count": 27,
     "metadata": {},
     "output_type": "execute_result"
    }
   ],
   "execution_count": 27
  },
  {
   "metadata": {},
   "cell_type": "markdown",
   "source": [
    "**Features** <br>\n",
    "<br>\n",
    "Yes: 1 <br>\n",
    "No: 0 <br>"
   ],
   "id": "7c919d8c49dac870"
  },
  {
   "metadata": {
    "ExecuteTime": {
     "end_time": "2024-09-22T17:20:23.557135Z",
     "start_time": "2024-09-22T17:20:23.551231Z"
    }
   },
   "cell_type": "code",
   "source": [
    "categorical_preprocessor = OneHotEncoder(handle_unknown='ignore')\n",
    "numerical_preprocessor = StandardScaler()\n",
    "\n",
    "categorical_columns = categorical_columns_selector(data)\n",
    "numerical_columns = ['FamilyMembers']\n",
    "\n",
    "preprocessor = ColumnTransformer(\n",
    "    [\n",
    "        (\"cat\", categorical_preprocessor, categorical_columns),\n",
    "        (\"num\", numerical_preprocessor, numerical_columns),\n",
    "    ]\n",
    ")\n",
    "X = preprocessor.fit_transform(data)"
   ],
   "id": "a4c6feaea38956f0",
   "outputs": [],
   "execution_count": 28
  },
  {
   "metadata": {},
   "cell_type": "markdown",
   "source": "## 2. Data Splitting ",
   "id": "acdb72c129deb199"
  },
  {
   "metadata": {},
   "cell_type": "markdown",
   "source": "Split data into train, validate and test sets.",
   "id": "b50a0db975fe7122"
  },
  {
   "metadata": {
    "ExecuteTime": {
     "end_time": "2024-09-22T17:20:23.560542Z",
     "start_time": "2024-09-22T17:20:23.557851Z"
    }
   },
   "cell_type": "code",
   "source": [
    "X_train, X_test, y_train, y_test = train_test_split(X, Y, test_size=0.2, \n",
    "                                                    shuffle=True)\n",
    "\n",
    "X_train, X_val, y_train, y_val = train_test_split(X_train, y_train, test_size=0.2, \n",
    "                                                    shuffle=True)"
   ],
   "id": "a10ef1ad406cb0d4",
   "outputs": [],
   "execution_count": 29
  },
  {
   "metadata": {},
   "cell_type": "markdown",
   "source": [
    "cv_result = cross_validate(model, data, target, cv=5)\n",
    "scores = pd.DataFrame(cv_result['test_score'])\n",
    "or \n",
    "scores = cv_result['test_score']\n",
    "print('The mean cross-validation score is:', f'{scores.mean():.3f} +/- {scores.std():.3f}')\n",
    "cv_result"
   ],
   "id": "56aea4b0a62e2b8c"
  },
  {
   "metadata": {},
   "cell_type": "markdown",
   "source": "# 4. Models",
   "id": "419076e925eca801"
  },
  {
   "metadata": {},
   "cell_type": "markdown",
   "source": "## 1. Apply various models",
   "id": "412180a7a6f12a9e"
  },
  {
   "metadata": {},
   "cell_type": "markdown",
   "source": "Logistic Regression",
   "id": "ce8e2d40320e845e"
  },
  {
   "metadata": {
    "ExecuteTime": {
     "end_time": "2024-09-22T17:20:23.565643Z",
     "start_time": "2024-09-22T17:20:23.561087Z"
    }
   },
   "cell_type": "code",
   "source": [
    "log_reg = LogisticRegression()\n",
    "log_reg.fit(X_train, y_train)\n",
    "y_pred_log_reg = log_reg.predict(X_val)\n",
    "print(\"Logistic Regression Accuracy:\", accuracy_score(y_val, y_pred_log_reg))"
   ],
   "id": "6d66dc87516e49bf",
   "outputs": [
    {
     "name": "stdout",
     "output_type": "stream",
     "text": [
      "Logistic Regression Accuracy: 0.7389937106918238\n"
     ]
    }
   ],
   "execution_count": 30
  },
  {
   "metadata": {},
   "cell_type": "markdown",
   "source": "Random Forest",
   "id": "a5e0605b55991dde"
  },
  {
   "metadata": {
    "ExecuteTime": {
     "end_time": "2024-09-22T17:20:23.629346Z",
     "start_time": "2024-09-22T17:20:23.566188Z"
    }
   },
   "cell_type": "code",
   "source": [
    "rf_clf = RandomForestClassifier()\n",
    "rf_clf.fit(X_train, y_train)\n",
    "y_pred_rf = rf_clf.predict(X_val)\n",
    "print(\"Random Forest Accuracy:\", accuracy_score(y_val, y_pred_rf))"
   ],
   "id": "448cbcc12eefa58a",
   "outputs": [
    {
     "name": "stdout",
     "output_type": "stream",
     "text": [
      "Random Forest Accuracy: 0.7484276729559748\n"
     ]
    }
   ],
   "execution_count": 31
  },
  {
   "metadata": {},
   "cell_type": "markdown",
   "source": "Support Vector Machine (SVM) ",
   "id": "fdcdd8bec3fd8910"
  },
  {
   "metadata": {
    "ExecuteTime": {
     "end_time": "2024-09-22T17:20:23.655517Z",
     "start_time": "2024-09-22T17:20:23.629991Z"
    }
   },
   "cell_type": "code",
   "source": [
    "svm_clf = SVC()\n",
    "svm_clf.fit(X_train, y_train)\n",
    "y_pred_svm = svm_clf.predict(X_val)\n",
    "print(\"SVM Accuracy:\", accuracy_score(y_val, y_pred_svm))"
   ],
   "id": "6b855a3fbd557a44",
   "outputs": [
    {
     "name": "stdout",
     "output_type": "stream",
     "text": [
      "SVM Accuracy: 0.7484276729559748\n"
     ]
    }
   ],
   "execution_count": 32
  },
  {
   "metadata": {},
   "cell_type": "markdown",
   "source": "Best Parameters - Grid Search",
   "id": "618b512b4a22636b"
  },
  {
   "metadata": {
    "ExecuteTime": {
     "end_time": "2024-09-22T17:20:26.022908Z",
     "start_time": "2024-09-22T17:20:23.656586Z"
    }
   },
   "cell_type": "code",
   "source": [
    "param_grid_rf = {\n",
    "    'n_estimators': [100, 200],\n",
    "    'max_depth': [None, 10, 20],\n",
    "    'min_samples_split': [2, 5]\n",
    "}\n",
    "\n",
    "grid_search_rf = GridSearchCV(estimator=RandomForestClassifier(), param_grid=param_grid_rf, cv=5, n_jobs=-1, verbose=2)\n",
    "grid_search_rf.fit(X_train, y_train)\n",
    "print(\"Best parameters for Random Forest:\", grid_search_rf.best_params_)"
   ],
   "id": "6757d31e09c797af",
   "outputs": [
    {
     "name": "stdout",
     "output_type": "stream",
     "text": [
      "Fitting 5 folds for each of 12 candidates, totalling 60 fits\n",
      "Best parameters for Random Forest: {'max_depth': 10, 'min_samples_split': 5, 'n_estimators': 100}\n"
     ]
    }
   ],
   "execution_count": 33
  },
  {
   "metadata": {
    "ExecuteTime": {
     "end_time": "2024-09-22T17:20:26.326508Z",
     "start_time": "2024-09-22T17:20:26.023695Z"
    }
   },
   "cell_type": "code",
   "source": [
    "param_grid_svm = {\n",
    "    'C': [0.1, 1, 10],\n",
    "    'gamma': [1, 0.1, 0.01],\n",
    "    'kernel': ['rbf', 'linear']\n",
    "}\n",
    "\n",
    "grid_search_svm = GridSearchCV(estimator=SVC(), param_grid=param_grid_svm, cv=5, n_jobs=-1, verbose=2)\n",
    "grid_search_svm.fit(X_train, y_train)\n",
    "print(\"Best parameters for SVM:\", grid_search_svm.best_params_)"
   ],
   "id": "edf75bd0baa92391",
   "outputs": [
    {
     "name": "stdout",
     "output_type": "stream",
     "text": [
      "Fitting 5 folds for each of 18 candidates, totalling 90 fits\n",
      "Best parameters for SVM: {'C': 1, 'gamma': 1, 'kernel': 'rbf'}\n"
     ]
    }
   ],
   "execution_count": 34
  },
  {
   "metadata": {},
   "cell_type": "markdown",
   "source": "## 2. Ensemble - Voting",
   "id": "d0a7f153daa0e729"
  },
  {
   "metadata": {
    "ExecuteTime": {
     "end_time": "2024-09-22T17:20:26.418162Z",
     "start_time": "2024-09-22T17:20:26.327630Z"
    }
   },
   "cell_type": "code",
   "source": [
    "voting_clf = VotingClassifier(estimators=[\n",
    "    ('log_reg', log_reg),\n",
    "    ('rf', grid_search_rf.best_estimator_),\n",
    "    ('svm', grid_search_svm.best_estimator_)\n",
    "], voting='hard')\n",
    "\n",
    "voting_clf.fit(X_train, y_train)\n",
    "y_pred_voting = voting_clf.predict(X_test)\n",
    "print(\"Voting Classifier Accuracy:\", accuracy_score(y_test, y_pred_voting))"
   ],
   "id": "1c18492dad5faccc",
   "outputs": [
    {
     "name": "stdout",
     "output_type": "stream",
     "text": [
      "Voting Classifier Accuracy: 0.7889447236180904\n"
     ]
    }
   ],
   "execution_count": 35
  },
  {
   "metadata": {},
   "cell_type": "markdown",
   "source": "# Improvements",
   "id": "512ffbded4b0e44a"
  },
  {
   "metadata": {},
   "cell_type": "markdown",
   "source": [
    "1. Add different weights or remove duplicated instances to reduce \n",
    "overfitting <br> and bias in the model.\n",
    "2. Check for correlation with label and numerical data using <br>\n",
    "logistic regression, and with categorical data use Chi-Square tests.\n",
    "3. Use Pipeline\n",
    "4. Use Cross Validation to split data and to evaluate model performance"
   ],
   "id": "228af6ebe52370b8"
  }
 ],
 "metadata": {
  "kernelspec": {
   "display_name": "Python 3",
   "language": "python",
   "name": "python3"
  },
  "language_info": {
   "codemirror_mode": {
    "name": "ipython",
    "version": 2
   },
   "file_extension": ".py",
   "mimetype": "text/x-python",
   "name": "python",
   "nbconvert_exporter": "python",
   "pygments_lexer": "ipython2",
   "version": "2.7.6"
  }
 },
 "nbformat": 4,
 "nbformat_minor": 5
}
